{
 "cells": [
  {
   "cell_type": "code",
   "execution_count": 1,
   "metadata": {},
   "outputs": [],
   "source": [
    "from multiprocessing import Process"
   ]
  },
  {
   "cell_type": "code",
   "execution_count": 2,
   "metadata": {},
   "outputs": [],
   "source": [
    "class Queue:\n",
    "    def __init__(self,volume):\n",
    "        self.volume = volume\n",
    "        self.stock = 0\n",
    "        self.record = []\n",
    "        \n",
    "    def get(self,name):\n",
    "        self.stock = self.stock - 1\n",
    "        info = name + \"get a product\"\n",
    "        self.record.append(info)\n",
    "        print(name,\"get a product\")\n",
    "        print(\"缓冲池中元素个数\",self.stock)\n",
    "        \n",
    "    def put(self,name):\n",
    "        self.stock = self.stock + 1 \n",
    "        info = name + \"put a product\"\n",
    "        self.record.append(info)\n",
    "        print(name,\"put a product\")\n",
    "        print(\"缓冲池中元素个数\",self.stock)\n",
    "        \n",
    "    def isempty(self):\n",
    "        if self.stock==0:\n",
    "            return 1\n",
    "        else:\n",
    "            return 0\n",
    "        \n",
    "    def isfull(self):\n",
    "        if self.volume == self.stock:\n",
    "            return 1\n",
    "        else:\n",
    "            return 0"
   ]
  },
  {
   "cell_type": "code",
   "execution_count": 3,
   "metadata": {},
   "outputs": [],
   "source": [
    "# def producer(q,name):\n",
    "#     if !q.isfull:\n",
    "#         q.put(name)\n",
    "class producer:\n",
    "    def __init__(self,name):\n",
    "        self.name = name\n",
    "    def product(self,q):\n",
    "        while 1:\n",
    "            if q.isfull == 0:\n",
    "                q.put(self.name)"
   ]
  },
  {
   "cell_type": "code",
   "execution_count": 4,
   "metadata": {},
   "outputs": [],
   "source": [
    "# def consumer(q,name):\n",
    "#     if !q.isempty:\n",
    "#         q.get(name)\n",
    "\n",
    "class consumer:\n",
    "    def __init__(self,name):\n",
    "        self.name = name\n",
    "    def consum(self,q):\n",
    "        while 1:\n",
    "            if q.isempty  == 0:\n",
    "                q.get(self.name)"
   ]
  },
  {
   "cell_type": "code",
   "execution_count": 5,
   "metadata": {},
   "outputs": [
    {
     "ename": "KeyboardInterrupt",
     "evalue": "",
     "output_type": "error",
     "traceback": [
      "\u001b[1;31m---------------------------------------------------------------------------\u001b[0m",
      "\u001b[1;31mKeyboardInterrupt\u001b[0m                         Traceback (most recent call last)",
      "\u001b[1;32m<ipython-input-5-e5ce6c1e55fb>\u001b[0m in \u001b[0;36m<module>\u001b[1;34m\u001b[0m\n\u001b[0;32m      3\u001b[0m     \u001b[0mc1\u001b[0m \u001b[1;33m=\u001b[0m \u001b[0mconsumer\u001b[0m\u001b[1;33m(\u001b[0m\u001b[1;34m\"消费者1号\"\u001b[0m\u001b[1;33m)\u001b[0m\u001b[1;33m\u001b[0m\u001b[1;33m\u001b[0m\u001b[0m\n\u001b[0;32m      4\u001b[0m     \u001b[0mp1\u001b[0m \u001b[1;33m=\u001b[0m \u001b[0mproducer\u001b[0m\u001b[1;33m(\u001b[0m\u001b[1;34m\"生产者1号\"\u001b[0m\u001b[1;33m)\u001b[0m\u001b[1;33m\u001b[0m\u001b[1;33m\u001b[0m\u001b[0m\n\u001b[1;32m----> 5\u001b[1;33m     \u001b[0mc1\u001b[0m\u001b[1;33m.\u001b[0m\u001b[0mconsum\u001b[0m\u001b[1;33m(\u001b[0m\u001b[0mq\u001b[0m\u001b[1;33m)\u001b[0m\u001b[1;33m\u001b[0m\u001b[1;33m\u001b[0m\u001b[0m\n\u001b[0m\u001b[0;32m      6\u001b[0m     \u001b[0mp1\u001b[0m\u001b[1;33m.\u001b[0m\u001b[0mproduct\u001b[0m\u001b[1;33m(\u001b[0m\u001b[0mq\u001b[0m\u001b[1;33m)\u001b[0m\u001b[1;33m\u001b[0m\u001b[1;33m\u001b[0m\u001b[0m\n\u001b[0;32m      7\u001b[0m \u001b[1;31m#     pro = Process(target=producer,args=(q,\"生产者1号\"))\u001b[0m\u001b[1;33m\u001b[0m\u001b[1;33m\u001b[0m\u001b[1;33m\u001b[0m\u001b[0m\n",
      "\u001b[1;32m<ipython-input-4-2839a40001ed>\u001b[0m in \u001b[0;36mconsum\u001b[1;34m(self, q)\u001b[0m\n\u001b[0;32m      8\u001b[0m     \u001b[1;32mdef\u001b[0m \u001b[0mconsum\u001b[0m\u001b[1;33m(\u001b[0m\u001b[0mself\u001b[0m\u001b[1;33m,\u001b[0m\u001b[0mq\u001b[0m\u001b[1;33m)\u001b[0m\u001b[1;33m:\u001b[0m\u001b[1;33m\u001b[0m\u001b[1;33m\u001b[0m\u001b[0m\n\u001b[0;32m      9\u001b[0m         \u001b[1;32mwhile\u001b[0m \u001b[1;36m1\u001b[0m\u001b[1;33m:\u001b[0m\u001b[1;33m\u001b[0m\u001b[1;33m\u001b[0m\u001b[0m\n\u001b[1;32m---> 10\u001b[1;33m             \u001b[1;32mif\u001b[0m \u001b[0mq\u001b[0m\u001b[1;33m.\u001b[0m\u001b[0misempty\u001b[0m  \u001b[1;33m==\u001b[0m \u001b[1;36m0\u001b[0m\u001b[1;33m:\u001b[0m\u001b[1;33m\u001b[0m\u001b[1;33m\u001b[0m\u001b[0m\n\u001b[0m\u001b[0;32m     11\u001b[0m                 \u001b[0mq\u001b[0m\u001b[1;33m.\u001b[0m\u001b[0mget\u001b[0m\u001b[1;33m(\u001b[0m\u001b[0mself\u001b[0m\u001b[1;33m.\u001b[0m\u001b[0mname\u001b[0m\u001b[1;33m)\u001b[0m\u001b[1;33m\u001b[0m\u001b[1;33m\u001b[0m\u001b[0m\n",
      "\u001b[1;31mKeyboardInterrupt\u001b[0m: "
     ]
    }
   ],
   "source": [
    "if __name__  == '__main__':\n",
    "    q = Queue(100) #建立队列\n",
    "    c1 = consumer(\"消费者1号\")\n",
    "    p1 = producer(\"生产者1号\")\n",
    "    c1.consum(q)\n",
    "    p1.product(q)\n",
    "#     pro = Process(target=producer,args=(q,\"生产者1号\"))\n",
    "#     con = Process(target=consumer,args=(q,\"消费者1号\"))\n",
    "#     pro.start()\n",
    "#     con.start()"
   ]
  },
  {
   "cell_type": "code",
   "execution_count": null,
   "metadata": {},
   "outputs": [],
   "source": []
  },
  {
   "cell_type": "code",
   "execution_count": null,
   "metadata": {},
   "outputs": [],
   "source": []
  }
 ],
 "metadata": {
  "kernelspec": {
   "display_name": "Python 3",
   "language": "python",
   "name": "python3"
  },
  "language_info": {
   "codemirror_mode": {
    "name": "ipython",
    "version": 3
   },
   "file_extension": ".py",
   "mimetype": "text/x-python",
   "name": "python",
   "nbconvert_exporter": "python",
   "pygments_lexer": "ipython3",
   "version": "3.7.4"
  }
 },
 "nbformat": 4,
 "nbformat_minor": 2
}

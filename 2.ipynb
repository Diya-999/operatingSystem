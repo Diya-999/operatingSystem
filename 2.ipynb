{
 "cells": [
  {
   "cell_type": "code",
   "execution_count": 5,
   "metadata": {},
   "outputs": [],
   "source": [
    "import threading\n",
    "# from multiprocessing import Process\n",
    "import time\n",
    "from time import sleep\n"
   ]
  },
  {
   "cell_type": "code",
   "execution_count": 9,
   "metadata": {},
   "outputs": [],
   "source": [
    "def Writer(name,buffer,mutex):\n",
    "    while mutex == 0:\n",
    "        if empty == 0:   #若缓冲区全满了  \n",
    "#             print('Writer start waiting')\n",
    "            sleep(1)\n",
    "        else:\n",
    "            mutex = 1\n",
    "            for block in buffer:\n",
    "                if block == []:\n",
    "                    block.append('reader',time.strftime(\"%H:%M:%S\", time.localtime()))\n",
    "            empty -= 1\n",
    "            print(\"Write\",\"现有空缓冲区\",empty)  # 跟踪生产行为\n",
    "            mutex = 0\n",
    "#             time.sleep(0.1 * random.random())\n"
   ]
  },
  {
   "cell_type": "code",
   "execution_count": 14,
   "metadata": {},
   "outputs": [],
   "source": [
    "def Reader(name,buffer,mutex):\n",
    "    while mutex == 0:\n",
    "        if empty == N:   #若缓冲区全空了  \n",
    "#             print('Writer start waiting')\n",
    "            sleep(1)\n",
    "        else:\n",
    "            mutex = 1\n",
    "            for block in buffer:\n",
    "                if block != []:\n",
    "                    block.pop()        \n",
    "            empty += 1\n",
    "            print(\"Reader\",\"现有空缓冲区\",empty)  # 跟踪生产行为\n",
    "            mutex = 0"
   ]
  },
  {
   "cell_type": "code",
   "execution_count": 15,
   "metadata": {},
   "outputs": [],
   "source": [
    "\n",
    "if __name__  == '__main__':\n",
    "    global N \n",
    "    N= 16    #缓冲区个数\n",
    "    mutex = 1    #信号量\n",
    "    global empty \n",
    "    empty = N      #空的缓冲区个数\n",
    "    buffer = []     #缓冲池\n",
    "    for i in range(N):   \n",
    "        buffer.append([])   #在缓冲池中加入16个缓冲区列表\n",
    "    # 定义生产者\n",
    "    p = threading.Thread(target=Writer,args=[buffer,mutex])\n",
    "    # 定义消费者\n",
    "    c = threading.Thread(target=Reader,args=[buffer,mutex])\n",
    "\n",
    "    p.start()\n",
    "    c.start()\n"
   ]
  },
  {
   "cell_type": "code",
   "execution_count": null,
   "metadata": {},
   "outputs": [],
   "source": []
  }
 ],
 "metadata": {
  "kernelspec": {
   "display_name": "Python 3",
   "language": "python",
   "name": "python3"
  },
  "language_info": {
   "codemirror_mode": {
    "name": "ipython",
    "version": 3
   },
   "file_extension": ".py",
   "mimetype": "text/x-python",
   "name": "python",
   "nbconvert_exporter": "python",
   "pygments_lexer": "ipython3",
   "version": "3.7.4"
  }
 },
 "nbformat": 4,
 "nbformat_minor": 2
}
